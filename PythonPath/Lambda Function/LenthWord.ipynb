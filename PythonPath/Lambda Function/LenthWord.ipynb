{
 "metadata": {
  "name": "",
  "signature": "sha256:79de1b4548ac19a2ddefb356a4f17aa90cc56037854414de2bc94480fd1d99ab"
 },
 "nbformat": 3,
 "nbformat_minor": 0,
 "worksheets": [
  {
   "cells": [
    {
     "cell_type": "code",
     "collapsed": false,
     "input": [
      "from functools import reduce\n",
      "wordlen = [2,3,4,2]\n",
      "sum = reduce(lambda x,y : x+y, wordlen)\n",
      "print(sum)\n",
      "print(sum/len(wordlen))"
     ],
     "language": "python",
     "metadata": {},
     "outputs": [
      {
       "output_type": "stream",
       "stream": "stdout",
       "text": [
        "11\n",
        "2\n"
       ]
      }
     ],
     "prompt_number": 1
    }
   ],
   "metadata": {}
  }
 ]
}