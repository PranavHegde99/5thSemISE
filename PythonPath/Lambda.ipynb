{
 "metadata": {
  "name": "",
  "signature": "sha256:1c1dfc81644e1c93217c17474f6252758f9a1eb0b675e210c1fcdafd115f8051"
 },
 "nbformat": 3,
 "nbformat_minor": 0,
 "worksheets": [
  {
   "cells": [
    {
     "cell_type": "code",
     "collapsed": false,
     "input": [
      "i = 0\n",
      "i = int(input(\"Enter value to be cubed\"))\n",
      "# Version 1\n",
      "def expocube(i):\n",
      "    return pow(i,3)\n",
      "print(\"Cubed value is\", expocube(i))\n"
     ],
     "language": "python",
     "metadata": {},
     "outputs": [
      {
       "name": "stdout",
       "output_type": "stream",
       "stream": "stdout",
       "text": [
        "Enter value to be cubed22\n"
       ]
      },
      {
       "output_type": "stream",
       "stream": "stdout",
       "text": [
        "('Cubed value is', 10648)\n"
       ]
      }
     ],
     "prompt_number": 1
    },
    {
     "cell_type": "code",
     "collapsed": false,
     "input": [
      "# Version 2\n",
      "result = lambda i : pow(1,2)\n",
      "print(\"Squared value using pow is\",result(i))"
     ],
     "language": "python",
     "metadata": {},
     "outputs": [
      {
       "output_type": "stream",
       "stream": "stdout",
       "text": [
        "('Squared value using pow is', 1)\n"
       ]
      }
     ],
     "prompt_number": 2
    },
    {
     "cell_type": "code",
     "collapsed": false,
     "input": [
      "# Version 3\n",
      "result = lambda i : i**2\n",
      "print (\"squared value using ** is \", result(i))"
     ],
     "language": "python",
     "metadata": {},
     "outputs": [
      {
       "output_type": "stream",
       "stream": "stdout",
       "text": [
        "('squared value using ** is ', 484)\n"
       ]
      }
     ],
     "prompt_number": 3
    },
    {
     "cell_type": "code",
     "collapsed": false,
     "input": [
      "atomicWeights = {1:12, 2:4, 3:32, 4:10, 4:23}\n",
      "sortedList = []\n",
      "sortedList = sorted(atomicWeights.items(), key = lambda X : X[1], reverse = True)\n",
      "print (sortedList)\n",
      "print(len(atomicWeights))"
     ],
     "language": "python",
     "metadata": {},
     "outputs": [
      {
       "output_type": "stream",
       "stream": "stdout",
       "text": [
        "[(3, 32), (4, 23), (1, 12), (2, 4)]\n",
        "4\n"
       ]
      }
     ],
     "prompt_number": 5
    }
   ],
   "metadata": {}
  }
 ]
}